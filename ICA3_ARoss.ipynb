{
  "nbformat": 4,
  "nbformat_minor": 0,
  "metadata": {
    "colab": {
      "provenance": [],
      "mount_file_id": "1lOkL96BQcnriJ3CNlEYCWY33c2nUDgHQ",
      "authorship_tag": "ABX9TyOKBI3v+IPi67cwqvqZAiM0",
      "include_colab_link": true
    },
    "kernelspec": {
      "name": "python3",
      "display_name": "Python 3"
    },
    "language_info": {
      "name": "python"
    }
  },
  "cells": [
    {
      "cell_type": "markdown",
      "metadata": {
        "id": "view-in-github",
        "colab_type": "text"
      },
      "source": [
        "<a href=\"https://colab.research.google.com/github/1fastgranada/CSC302_ICA3/blob/main/ICA3_ARoss.ipynb\" target=\"_parent\"><img src=\"https://colab.research.google.com/assets/colab-badge.svg\" alt=\"Open In Colab\"/></a>"
      ]
    },
    {
      "cell_type": "markdown",
      "source": [
        "This is Adam Ross's ICA3 for CSC302."
      ],
      "metadata": {
        "id": "Dqk7aqof19XO"
      }
    },
    {
      "cell_type": "markdown",
      "source": [
        "Please read the first 1000 lines from the lego_setsHB.csv in the DATA folder and split each line by using comma. (You may have to make a copy of the DATA folder to your own drive to be able to read from there. You can create a short cut to your drive as shown at the beginning of the Lecture 5)\n",
        "\n",
        "As you do go through each line populate two dictionaries, Price and Difficulty, which use product id as the key and price and review difficulty as values, respectively. If you're not comfortable with dictionaries, please feel free to skip this step. However, you notebook should have your attempt to read the file at least. It is OK if it fails. This is just an exercise and you'll get full credit for your effort.\n",
        "\n",
        "You can check the class notebook we worked to see the solution.\n",
        "\n",
        "You can give a link to your Python Notebook on Colab, but make sure it's accessible (Use sharing options to give access to anyone from University of Michigan. Please don't try to add my email address when you use share button. This will keep sending emails to me. I can use the link you posted on your response if you make it accessible as I instructed above). You can also use your GitHub to upload and link your work.\n",
        "\n",
        "If you don't have a GitHub account yet, please create one today. You can also watch GitHub help video under the Technical Resources module."
      ],
      "metadata": {
        "id": "mvWDk6IR9Pvp"
      }
    },
    {
      "cell_type": "code",
      "execution_count": null,
      "metadata": {
        "id": "_gnVe4Ew5owp"
      },
      "outputs": [],
      "source": [
        "# I came up with my counter idea to count down from a predefined number of lines before i saw the solution you offered,\n",
        "# i decided to leave mine rather than use the count up from zero option.\n",
        "\n",
        "filename = '/content/drive/MyDrive/DATA/lego_setsHB.csv'\n",
        "\n",
        "price = {}\n",
        "difficulty = {}\n",
        "lines = 1000 # how many lines to read\n",
        "\n",
        "with open(filename, 'r') as fl:\n",
        "    next(fl) # skip headers\n",
        "    for line in fl:\n",
        "        tokens = line.split(',')\n",
        "        price[tokens[4]] = tokens[0]\n",
        "        difficulty[tokens[4]] = tokens[5]\n",
        "        lines -= 1 # decriment our line read counter\n",
        "        if lines == 0: # break if we've read enough\n",
        "            break\n",
        "for key, value in price.items():\n",
        "    print(key, value, difficulty[key])"
      ]
    }
  ]
}